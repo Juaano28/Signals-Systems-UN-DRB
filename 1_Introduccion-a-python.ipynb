{
  "nbformat": 4,
  "nbformat_minor": 0,
  "metadata": {
    "colab": {
      "provenance": [],
      "collapsed_sections": [
        "oMS9hlb1P8db",
        "JDmylczWfPJt"
      ],
      "authorship_tag": "ABX9TyM85vwjEzMJvQrhOjeWqa80",
      "include_colab_link": true
    },
    "kernelspec": {
      "name": "python3",
      "display_name": "Python 3"
    },
    "language_info": {
      "name": "python"
    }
  },
  "cells": [
    {
      "cell_type": "markdown",
      "metadata": {
        "id": "view-in-github",
        "colab_type": "text"
      },
      "source": [
        "<a href=\"https://colab.research.google.com/github/dramirezbe/Signals-Systems-UN-DRB/blob/main/1_Introduccion-a-python.ipynb\" target=\"_parent\"><img src=\"https://colab.research.google.com/assets/colab-badge.svg\" alt=\"Open In Colab\"/></a>"
      ]
    },
    {
      "cell_type": "markdown",
      "source": [
        "# Colab environment\n",
        "\n",
        "- Markdown\n",
        "- Code"
      ],
      "metadata": {
        "id": "oMS9hlb1P8db"
      }
    },
    {
      "cell_type": "code",
      "source": [
        "!python --version"
      ],
      "metadata": {
        "colab": {
          "base_uri": "https://localhost:8080/"
        },
        "id": "85d82xvgS1EV",
        "outputId": "2e3b0175-ce43-40c9-ef2b-444f1e4c3777"
      },
      "execution_count": null,
      "outputs": [
        {
          "output_type": "stream",
          "name": "stdout",
          "text": [
            "Python 3.10.12\n"
          ]
        }
      ]
    },
    {
      "cell_type": "code",
      "source": [
        "!pip install tensorflow"
      ],
      "metadata": {
        "colab": {
          "base_uri": "https://localhost:8080/"
        },
        "id": "LIrdRFprDV_O",
        "outputId": "eefad114-8bf4-4494-9406-e1b38c0b4b91"
      },
      "execution_count": null,
      "outputs": [
        {
          "output_type": "stream",
          "name": "stdout",
          "text": [
            "Requirement already satisfied: tensorflow in /usr/local/lib/python3.10/dist-packages (2.17.0)\n",
            "Requirement already satisfied: absl-py>=1.0.0 in /usr/local/lib/python3.10/dist-packages (from tensorflow) (1.4.0)\n",
            "Requirement already satisfied: astunparse>=1.6.0 in /usr/local/lib/python3.10/dist-packages (from tensorflow) (1.6.3)\n",
            "Requirement already satisfied: flatbuffers>=24.3.25 in /usr/local/lib/python3.10/dist-packages (from tensorflow) (24.3.25)\n",
            "Requirement already satisfied: gast!=0.5.0,!=0.5.1,!=0.5.2,>=0.2.1 in /usr/local/lib/python3.10/dist-packages (from tensorflow) (0.6.0)\n",
            "Requirement already satisfied: google-pasta>=0.1.1 in /usr/local/lib/python3.10/dist-packages (from tensorflow) (0.2.0)\n",
            "Requirement already satisfied: h5py>=3.10.0 in /usr/local/lib/python3.10/dist-packages (from tensorflow) (3.12.1)\n",
            "Requirement already satisfied: libclang>=13.0.0 in /usr/local/lib/python3.10/dist-packages (from tensorflow) (18.1.1)\n",
            "Requirement already satisfied: ml-dtypes<0.5.0,>=0.3.1 in /usr/local/lib/python3.10/dist-packages (from tensorflow) (0.4.1)\n",
            "Requirement already satisfied: opt-einsum>=2.3.2 in /usr/local/lib/python3.10/dist-packages (from tensorflow) (3.4.0)\n",
            "Requirement already satisfied: packaging in /usr/local/lib/python3.10/dist-packages (from tensorflow) (24.1)\n",
            "Requirement already satisfied: protobuf!=4.21.0,!=4.21.1,!=4.21.2,!=4.21.3,!=4.21.4,!=4.21.5,<5.0.0dev,>=3.20.3 in /usr/local/lib/python3.10/dist-packages (from tensorflow) (3.20.3)\n",
            "Requirement already satisfied: requests<3,>=2.21.0 in /usr/local/lib/python3.10/dist-packages (from tensorflow) (2.32.3)\n",
            "Requirement already satisfied: setuptools in /usr/local/lib/python3.10/dist-packages (from tensorflow) (75.1.0)\n",
            "Requirement already satisfied: six>=1.12.0 in /usr/local/lib/python3.10/dist-packages (from tensorflow) (1.16.0)\n",
            "Requirement already satisfied: termcolor>=1.1.0 in /usr/local/lib/python3.10/dist-packages (from tensorflow) (2.5.0)\n",
            "Requirement already satisfied: typing-extensions>=3.6.6 in /usr/local/lib/python3.10/dist-packages (from tensorflow) (4.12.2)\n",
            "Requirement already satisfied: wrapt>=1.11.0 in /usr/local/lib/python3.10/dist-packages (from tensorflow) (1.16.0)\n",
            "Requirement already satisfied: grpcio<2.0,>=1.24.3 in /usr/local/lib/python3.10/dist-packages (from tensorflow) (1.64.1)\n",
            "Requirement already satisfied: tensorboard<2.18,>=2.17 in /usr/local/lib/python3.10/dist-packages (from tensorflow) (2.17.0)\n",
            "Requirement already satisfied: keras>=3.2.0 in /usr/local/lib/python3.10/dist-packages (from tensorflow) (3.4.1)\n",
            "Requirement already satisfied: tensorflow-io-gcs-filesystem>=0.23.1 in /usr/local/lib/python3.10/dist-packages (from tensorflow) (0.37.1)\n",
            "Requirement already satisfied: numpy<2.0.0,>=1.23.5 in /usr/local/lib/python3.10/dist-packages (from tensorflow) (1.26.4)\n",
            "Requirement already satisfied: wheel<1.0,>=0.23.0 in /usr/local/lib/python3.10/dist-packages (from astunparse>=1.6.0->tensorflow) (0.44.0)\n",
            "Requirement already satisfied: rich in /usr/local/lib/python3.10/dist-packages (from keras>=3.2.0->tensorflow) (13.9.3)\n",
            "Requirement already satisfied: namex in /usr/local/lib/python3.10/dist-packages (from keras>=3.2.0->tensorflow) (0.0.8)\n",
            "Requirement already satisfied: optree in /usr/local/lib/python3.10/dist-packages (from keras>=3.2.0->tensorflow) (0.13.0)\n",
            "Requirement already satisfied: charset-normalizer<4,>=2 in /usr/local/lib/python3.10/dist-packages (from requests<3,>=2.21.0->tensorflow) (3.4.0)\n",
            "Requirement already satisfied: idna<4,>=2.5 in /usr/local/lib/python3.10/dist-packages (from requests<3,>=2.21.0->tensorflow) (3.10)\n",
            "Requirement already satisfied: urllib3<3,>=1.21.1 in /usr/local/lib/python3.10/dist-packages (from requests<3,>=2.21.0->tensorflow) (2.2.3)\n",
            "Requirement already satisfied: certifi>=2017.4.17 in /usr/local/lib/python3.10/dist-packages (from requests<3,>=2.21.0->tensorflow) (2024.8.30)\n",
            "Requirement already satisfied: markdown>=2.6.8 in /usr/local/lib/python3.10/dist-packages (from tensorboard<2.18,>=2.17->tensorflow) (3.7)\n",
            "Requirement already satisfied: tensorboard-data-server<0.8.0,>=0.7.0 in /usr/local/lib/python3.10/dist-packages (from tensorboard<2.18,>=2.17->tensorflow) (0.7.2)\n",
            "Requirement already satisfied: werkzeug>=1.0.1 in /usr/local/lib/python3.10/dist-packages (from tensorboard<2.18,>=2.17->tensorflow) (3.0.6)\n",
            "Requirement already satisfied: MarkupSafe>=2.1.1 in /usr/local/lib/python3.10/dist-packages (from werkzeug>=1.0.1->tensorboard<2.18,>=2.17->tensorflow) (3.0.2)\n",
            "Requirement already satisfied: markdown-it-py>=2.2.0 in /usr/local/lib/python3.10/dist-packages (from rich->keras>=3.2.0->tensorflow) (3.0.0)\n",
            "Requirement already satisfied: pygments<3.0.0,>=2.13.0 in /usr/local/lib/python3.10/dist-packages (from rich->keras>=3.2.0->tensorflow) (2.18.0)\n",
            "Requirement already satisfied: mdurl~=0.1 in /usr/local/lib/python3.10/dist-packages (from markdown-it-py>=2.2.0->rich->keras>=3.2.0->tensorflow) (0.1.2)\n"
          ]
        }
      ]
    },
    {
      "cell_type": "markdown",
      "source": [
        "# Input/Output\n"
      ],
      "metadata": {
        "id": "JDmylczWfPJt"
      }
    },
    {
      "cell_type": "code",
      "source": [
        "name = input(\"What's your name?\")\n",
        "\n",
        "\n",
        "#print(\"Hello\", name2) #Print(Avisar al usuario)\n",
        "\n",
        "name2 = \"Juan\"\n",
        "\n"
      ],
      "metadata": {
        "colab": {
          "base_uri": "https://localhost:8080/"
        },
        "id": "Ba8HxwEpfVIy",
        "outputId": "6247da84-6a14-4658-f2f2-8334ff74ffe7"
      },
      "execution_count": null,
      "outputs": [
        {
          "name": "stdout",
          "output_type": "stream",
          "text": [
            "What's your name?david\n"
          ]
        }
      ]
    },
    {
      "cell_type": "code",
      "source": [
        "print(f\"Hello {name}, and {name2}\")"
      ],
      "metadata": {
        "colab": {
          "base_uri": "https://localhost:8080/"
        },
        "id": "g_eYTFlOfjPT",
        "outputId": "2dd963ce-ad73-49dd-dd54-8f6215927c86"
      },
      "execution_count": null,
      "outputs": [
        {
          "output_type": "stream",
          "name": "stdout",
          "text": [
            "Hello david, and Juan\n"
          ]
        }
      ]
    },
    {
      "cell_type": "markdown",
      "source": [
        "# Variable Type\n",
        "\n",
        "- int\n",
        "- float\n",
        "- string\n",
        "\n",
        "\n",
        "# Int (Integer)\n"
      ],
      "metadata": {
        "id": "I2SKg23oS41C"
      }
    },
    {
      "cell_type": "code",
      "execution_count": null,
      "metadata": {
        "colab": {
          "base_uri": "https://localhost:8080/"
        },
        "id": "769MRR6eP3OQ",
        "outputId": "6197226b-d2fe-49c0-bc3b-3277e28aa646"
      },
      "outputs": [
        {
          "output_type": "stream",
          "name": "stdout",
          "text": [
            "12\n",
            "<class 'int'>\n"
          ]
        }
      ],
      "source": [
        "v = 12\n",
        "\n",
        "print(v)\n",
        "\n",
        "print(type(v))"
      ]
    },
    {
      "cell_type": "markdown",
      "source": [
        "## Float (Decimal)"
      ],
      "metadata": {
        "id": "uI1erA36ZILg"
      }
    },
    {
      "cell_type": "code",
      "source": [
        "variable = 0.74146\n",
        "\n",
        "print(variable)\n",
        "\n",
        "print(type(variable))"
      ],
      "metadata": {
        "colab": {
          "base_uri": "https://localhost:8080/"
        },
        "id": "z040JES3ZERQ",
        "outputId": "4381fa29-3c28-4543-f19c-416c2b1d450c"
      },
      "execution_count": null,
      "outputs": [
        {
          "output_type": "stream",
          "name": "stdout",
          "text": [
            "0.74146\n",
            "<class 'float'>\n"
          ]
        }
      ]
    },
    {
      "cell_type": "markdown",
      "source": [
        "## Bool (True or False)"
      ],
      "metadata": {
        "id": "gKw5woTEZ5fg"
      }
    },
    {
      "cell_type": "code",
      "source": [
        "variable = True\n",
        "\n",
        "print(variable)\n",
        "\n",
        "print(type(variable))\n",
        "\n",
        "variable = 8 < 7\n",
        "print(variable)\n",
        "print(type(variable))"
      ],
      "metadata": {
        "colab": {
          "base_uri": "https://localhost:8080/"
        },
        "id": "ALhRZlLXZ4yv",
        "outputId": "ae4f5cc1-fe07-4239-ce47-ebbc74191940"
      },
      "execution_count": null,
      "outputs": [
        {
          "output_type": "stream",
          "name": "stdout",
          "text": [
            "True\n",
            "<class 'bool'>\n",
            "False\n",
            "<class 'bool'>\n"
          ]
        }
      ]
    },
    {
      "cell_type": "code",
      "source": [
        "variable = True + 1\n",
        "\n",
        "print(variable)"
      ],
      "metadata": {
        "colab": {
          "base_uri": "https://localhost:8080/"
        },
        "id": "J1SGuV1lGaY-",
        "outputId": "5659e1d8-35ce-415b-e8e8-d59982efea4d"
      },
      "execution_count": null,
      "outputs": [
        {
          "output_type": "stream",
          "name": "stdout",
          "text": [
            "2\n"
          ]
        }
      ]
    },
    {
      "cell_type": "markdown",
      "source": [
        "## Transformations in types of variables"
      ],
      "metadata": {
        "id": "sV8OC8fhef3v"
      }
    },
    {
      "cell_type": "code",
      "source": [
        "a = 8.342\n",
        "b = int(a)\n",
        "\n",
        "print(b)\n",
        "print(type(b))"
      ],
      "metadata": {
        "colab": {
          "base_uri": "https://localhost:8080/"
        },
        "id": "aqL84adbeqDn",
        "outputId": "7190af69-24da-4e95-8ac0-cc2e0cf50f90"
      },
      "execution_count": null,
      "outputs": [
        {
          "output_type": "stream",
          "name": "stdout",
          "text": [
            "8\n",
            "<class 'int'>\n"
          ]
        }
      ]
    },
    {
      "cell_type": "markdown",
      "source": [
        "## Operations"
      ],
      "metadata": {
        "id": "G6Jm1FFOaa0u"
      }
    },
    {
      "cell_type": "code",
      "source": [
        "a = 10\n",
        "b = 2\n",
        "\n",
        "c = a + b  #Add\n",
        "print(\"add=\", c)\n",
        "\n",
        "c = a - b #Substract\n",
        "print(\"sub=\",c)\n",
        "\n",
        "c = a * b #Multiply\n",
        "print(\"Mul=\",c)\n",
        "\n",
        "c = a / b #Divide\n",
        "print(\"Divide=\",c)\n",
        "\n"
      ],
      "metadata": {
        "colab": {
          "base_uri": "https://localhost:8080/"
        },
        "id": "vemX2DVRadxs",
        "outputId": "ceca9c6e-a7ef-4f9a-c88c-7251f3df64b2"
      },
      "execution_count": null,
      "outputs": [
        {
          "output_type": "stream",
          "name": "stdout",
          "text": [
            "add= 12\n",
            "sub= 8\n",
            "Mul= 20\n",
            "Divide= 5.0\n",
            "Module= 0\n"
          ]
        }
      ]
    },
    {
      "cell_type": "markdown",
      "source": [
        "## Special Operations"
      ],
      "metadata": {
        "id": "VXBdIHcgcY-0"
      }
    },
    {
      "cell_type": "code",
      "source": [
        "a = 17\n",
        "b = 4\n",
        "\n",
        "c = a ** b #Power\n",
        "print(\"Power=\",c)\n",
        "\n",
        "c = a ** (1/2)\n",
        "d = b ** (1/2)\n",
        "print(\"Root=\",c)\n",
        "print(\"Root=\",d)\n",
        "\n",
        "\n",
        "d = a / b\n",
        "c = a // b #Integer Division\n",
        "print(\"Normal Division=\", d)\n",
        "print(\"Integer Division=\",c)\n",
        "\n",
        "c = a % b #Module\n",
        "print(\"Module=\",c)\n",
        "\n"
      ],
      "metadata": {
        "colab": {
          "base_uri": "https://localhost:8080/"
        },
        "id": "VcefN1yKb6PZ",
        "outputId": "76ca9b6c-966b-4897-86c8-a276e4fdb8ee"
      },
      "execution_count": null,
      "outputs": [
        {
          "output_type": "stream",
          "name": "stdout",
          "text": [
            "Power= 83521\n",
            "Root= 4.123105625617661\n",
            "Root= 2.0\n",
            "Normal Division= 4.25\n",
            "Integer Division= 4\n",
            "Module= 1\n"
          ]
        }
      ]
    },
    {
      "cell_type": "code",
      "source": [
        "a = 17\n",
        "b = 17 % 2 == 0\n",
        "print(b)"
      ],
      "metadata": {
        "colab": {
          "base_uri": "https://localhost:8080/"
        },
        "id": "EvxTBOhZI-b8",
        "outputId": "039de4f6-10fd-4a9b-a1ea-df5c29d3b365"
      },
      "execution_count": null,
      "outputs": [
        {
          "output_type": "stream",
          "name": "stdout",
          "text": [
            "False\n"
          ]
        }
      ]
    },
    {
      "cell_type": "markdown",
      "source": [
        "# Exercises"
      ],
      "metadata": {
        "id": "nBW91QOoiLZa"
      }
    },
    {
      "cell_type": "markdown",
      "source": [
        "### Use input and print\n",
        "\n",
        "1. Write a program that displays the result of the following arithmetic operation on the screen: $x(t) = \\left(\\frac{6+2}{3.567}\\right)^2$\n",
        "\n",
        "2. Write a program that asks the user for the number of hours worked and the payment per hour. Then, it should display on the screen the corresponding payment.\n",
        "\n",
        "3. Write a program that asks the user for their weight (in kg) and height (in meters), calculates the body mass index `BMI`, stores it in a variable, and displays the message `f\"Your body mass index is {BMI}\"` on the screen.\n",
        "\n",
        "$$BMI = \\frac{weight (kg)}{height (m)^2}$$"
      ],
      "metadata": {
        "id": "oGKhpziCCWpc"
      }
    },
    {
      "cell_type": "code",
      "source": [
        "\"\"\"First Exercise\"\"\"\n",
        "\n",
        "x = ((6+2)/(3.547))**2\n",
        "print(f\"Value of x = \", x)"
      ],
      "metadata": {
        "id": "dXev7HTPiNIr"
      },
      "execution_count": null,
      "outputs": []
    },
    {
      "cell_type": "code",
      "source": [
        "\"\"\"Second Exercise\"\"\"\n",
        "\n",
        "rate = input(\"What is the payment per hour = \")\n",
        "hours = input(\"Number of hours worked = \")\n",
        "payment = int(rate) * int(hours)\n",
        "print(f\"Your payment is= \", payment, \"$\")"
      ],
      "metadata": {
        "id": "aa-5CqyGlpe-"
      },
      "execution_count": null,
      "outputs": []
    },
    {
      "cell_type": "code",
      "source": [
        "\"\"\"Third Exercise\"\"\"\n",
        "\n",
        "weight = float(input(\"What is yout weight(kg) = \"))\n",
        "height = float(input(\"What is your height(m) = \"))\n",
        "BMI = weight / (height**2)\n",
        "print(f\"Your body mass index is {BMI}\")"
      ],
      "metadata": {
        "colab": {
          "base_uri": "https://localhost:8080/"
        },
        "id": "M117qd0Amamu",
        "outputId": "b0000ee5-905d-42ae-b17c-c07f52c30817"
      },
      "execution_count": null,
      "outputs": [
        {
          "output_type": "stream",
          "name": "stdout",
          "text": [
            "What is yout weight(kg) = 80\n",
            "What is your height(m) = 1.7999\n",
            "Your body mass index is 24.694101737556945\n"
          ]
        }
      ]
    }
  ]
}