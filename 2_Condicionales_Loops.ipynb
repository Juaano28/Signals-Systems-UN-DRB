{
  "nbformat": 4,
  "nbformat_minor": 0,
  "metadata": {
    "colab": {
      "provenance": [],
      "authorship_tag": "ABX9TyMqrV/6W2ZxCjEcB4G3R+3g",
      "include_colab_link": true
    },
    "kernelspec": {
      "name": "python3",
      "display_name": "Python 3"
    },
    "language_info": {
      "name": "python"
    }
  },
  "cells": [
    {
      "cell_type": "markdown",
      "metadata": {
        "id": "view-in-github",
        "colab_type": "text"
      },
      "source": [
        "<a href=\"https://colab.research.google.com/github/dramirezbe/Signals-Systems-UN-DRB/blob/main/2_Condicionales_Loops.ipynb\" target=\"_parent\"><img src=\"https://colab.research.google.com/assets/colab-badge.svg\" alt=\"Open In Colab\"/></a>"
      ]
    },
    {
      "cell_type": "markdown",
      "source": [
        "# Conditionals\n",
        "- Boolean expresions\n",
        "- Logic operator\n",
        "- if/else\n",
        "- for\n",
        "- while"
      ],
      "metadata": {
        "id": "b1D4zPUUxCSO"
      }
    },
    {
      "cell_type": "markdown",
      "source": [
        "## Boolean expresions"
      ],
      "metadata": {
        "id": "I3RNpT5hvBMj"
      }
    },
    {
      "cell_type": "code",
      "source": [
        "var = True #(1)\n",
        "var = False #(0)\n",
        "\n",
        "variable = 8 > 9\n",
        "print(variable)\n",
        "print(type(variable))"
      ],
      "metadata": {
        "colab": {
          "base_uri": "https://localhost:8080/"
        },
        "id": "y1fVbJwpyAAS",
        "outputId": "0793a1fa-65aa-4dbe-afd1-58838bf97a8b"
      },
      "execution_count": null,
      "outputs": [
        {
          "output_type": "stream",
          "name": "stdout",
          "text": [
            "False\n",
            "<class 'bool'>\n"
          ]
        }
      ]
    },
    {
      "cell_type": "code",
      "source": [
        "variable = 8 < 9\n",
        "print(variable)\n",
        "print(type(variable))"
      ],
      "metadata": {
        "colab": {
          "base_uri": "https://localhost:8080/"
        },
        "id": "t4Lqh3ADyM6w",
        "outputId": "f8d2ed28-8c09-456c-b056-a52535242b69"
      },
      "execution_count": null,
      "outputs": [
        {
          "output_type": "stream",
          "name": "stdout",
          "text": [
            "True\n",
            "<class 'bool'>\n"
          ]
        }
      ]
    },
    {
      "cell_type": "code",
      "source": [
        "\n",
        "t=0\n",
        "if True:\n",
        "    print(1)\n",
        "else:\n",
        "    print(0)"
      ],
      "metadata": {
        "colab": {
          "base_uri": "https://localhost:8080/"
        },
        "id": "45QK2Y1pyPzX",
        "outputId": "a2932a2e-0ad7-4f3e-9d71-91286e712e40"
      },
      "execution_count": null,
      "outputs": [
        {
          "output_type": "stream",
          "name": "stdout",
          "text": [
            "1\n"
          ]
        }
      ]
    },
    {
      "cell_type": "code",
      "source": [
        "variable = False\n",
        "\n",
        "if variable:\n",
        "    print(\"It's true\")\n",
        "else:\n",
        "    print(\"It's false\")"
      ],
      "metadata": {
        "colab": {
          "base_uri": "https://localhost:8080/"
        },
        "id": "ztO178eGydGN",
        "outputId": "f828ee39-23ca-4017-9426-ce566937d4e4"
      },
      "execution_count": null,
      "outputs": [
        {
          "output_type": "stream",
          "name": "stdout",
          "text": [
            "It's false\n"
          ]
        }
      ]
    },
    {
      "cell_type": "code",
      "source": [
        "variable = 8\n",
        "print(variable)\n",
        "\n",
        "variable == 9\n",
        "print(variable)\n"
      ],
      "metadata": {
        "colab": {
          "base_uri": "https://localhost:8080/"
        },
        "id": "4Rym1ppqyszU",
        "outputId": "278cd6cc-7622-4e66-eb73-b6d860d67c2e"
      },
      "execution_count": null,
      "outputs": [
        {
          "output_type": "stream",
          "name": "stdout",
          "text": [
            "8\n",
            "8\n"
          ]
        }
      ]
    },
    {
      "cell_type": "code",
      "source": [
        "condition = variable == 9\n",
        "print(condition)\n",
        "print(variable)"
      ],
      "metadata": {
        "colab": {
          "base_uri": "https://localhost:8080/"
        },
        "id": "70WJ_tLezLvD",
        "outputId": "a768a773-04ae-4a49-c366-443d55bbd83c"
      },
      "execution_count": null,
      "outputs": [
        {
          "output_type": "stream",
          "name": "stdout",
          "text": [
            "False\n",
            "8\n"
          ]
        }
      ]
    },
    {
      "cell_type": "markdown",
      "source": [
        "## Logic Operator (and/or)\n"
      ],
      "metadata": {
        "id": "AMex57yl2a7A"
      }
    },
    {
      "cell_type": "markdown",
      "source": [
        "### AND\n",
        "<img src=\"https://www.electroniclinic.com/wp-content/uploads/2022/08/logic-symbol-of-AND-gate-499x720.jpg\" alt=\"Image logic gate and\" width=200>"
      ],
      "metadata": {
        "id": "7WeRHflb4cjt"
      }
    },
    {
      "cell_type": "code",
      "source": [
        "variable = False and True\n",
        "print(variable)\n",
        "\n",
        "variable = False and False\n",
        "print(variable)\n",
        "\n",
        "variable = True and False\n",
        "print(variable)\n",
        "\n",
        "variable = True and True\n",
        "print(variable)"
      ],
      "metadata": {
        "colab": {
          "base_uri": "https://localhost:8080/"
        },
        "id": "ck8O3_6G4ZdO",
        "outputId": "89ee3882-e324-4754-ede7-4b2391e755e4"
      },
      "execution_count": null,
      "outputs": [
        {
          "output_type": "stream",
          "name": "stdout",
          "text": [
            "False\n",
            "False\n",
            "False\n",
            "True\n"
          ]
        }
      ]
    },
    {
      "cell_type": "code",
      "source": [
        "t = 4\n",
        "\n",
        "if  t >= 5 and t<=10 :\n",
        "    print(\"Corriendo...\")\n",
        "else:\n",
        "    print(\"No\")"
      ],
      "metadata": {
        "colab": {
          "base_uri": "https://localhost:8080/"
        },
        "id": "R64THS31kwfh",
        "outputId": "08bba7cc-4e58-4202-83ab-8ac551d3e2d0"
      },
      "execution_count": null,
      "outputs": [
        {
          "output_type": "stream",
          "name": "stdout",
          "text": [
            "No\n"
          ]
        }
      ]
    },
    {
      "cell_type": "markdown",
      "source": [
        "\n",
        "### OR\n",
        "<img src=\"https://www.electroniclinic.com/wp-content/uploads/2022/08/logic-or-electronic-symbol-of-a-OR-gate-454x720.jpg\" alt=\"Image logic gate or\" width=200>"
      ],
      "metadata": {
        "id": "stO9a0kg4Xjm"
      }
    },
    {
      "cell_type": "code",
      "source": [
        "variable = False or True\n",
        "print(variable)\n",
        "\n",
        "variable = True or False\n",
        "print(variable)\n",
        "\n",
        "variable = True or True\n",
        "print(variable)\n",
        "\n",
        "variable = False or False\n",
        "print(variable)"
      ],
      "metadata": {
        "colab": {
          "base_uri": "https://localhost:8080/"
        },
        "id": "vbXaq8UY3KYW",
        "outputId": "53e53d4a-fba2-4e1d-9075-aaf63b2c7652"
      },
      "execution_count": null,
      "outputs": [
        {
          "output_type": "stream",
          "name": "stdout",
          "text": [
            "True\n",
            "True\n",
            "True\n",
            "False\n"
          ]
        }
      ]
    },
    {
      "cell_type": "markdown",
      "source": [
        "## IF"
      ],
      "metadata": {
        "id": "lC7FSjTszngU"
      }
    },
    {
      "cell_type": "code",
      "source": [
        "condition = int(input(\"Enter a digit = \"))\n",
        "\n",
        "if condition == 1:\n",
        "    print(\"It's one\")\n",
        "elif condition == 2:\n",
        "    print(\"It's two\")\n",
        "elif condition == 3:\n",
        "    print(\"It's three\")\n",
        "else:\n",
        "    print(\"It's something else\")\n"
      ],
      "metadata": {
        "colab": {
          "base_uri": "https://localhost:8080/"
        },
        "id": "0IE1GzPUzprF",
        "outputId": "1d36db8a-08dc-4062-b6c5-19b651aaaab4"
      },
      "execution_count": null,
      "outputs": [
        {
          "output_type": "stream",
          "name": "stdout",
          "text": [
            "Enter a digit = 2\n",
            "It's two\n"
          ]
        }
      ]
    },
    {
      "cell_type": "code",
      "source": [
        "condition = int(input(\"Enter a digit = \"))\n",
        "\n",
        "if condition >= 0 and condition < 10:\n",
        "    print(\"It has 1 unit.\")\n",
        "elif condition < 0:\n",
        "    print(\"It's negative\")\n",
        "elif condition >= 10 and condition < 100:\n",
        "    print(\"It has 2 units.\")\n",
        "else:\n",
        "    print(\"It has 3 or more units.\")\n"
      ],
      "metadata": {
        "colab": {
          "base_uri": "https://localhost:8080/"
        },
        "id": "ejsJzp4405s0",
        "outputId": "1d689565-2155-46c1-8566-ea0b8c6ececf"
      },
      "execution_count": null,
      "outputs": [
        {
          "output_type": "stream",
          "name": "stdout",
          "text": [
            "Enter a digit = 200\n",
            "It has 3 or more units.\n"
          ]
        }
      ]
    },
    {
      "cell_type": "markdown",
      "source": [
        "## WHILE LOOP\n",
        "\n"
      ],
      "metadata": {
        "id": "binP_c3w7cKc"
      }
    },
    {
      "cell_type": "code",
      "source": [
        "count = 0\n",
        "\n",
        "while count < 10:\n",
        "    print(count)\n",
        "    count += 1 # count = count + 1"
      ],
      "metadata": {
        "colab": {
          "base_uri": "https://localhost:8080/"
        },
        "id": "iAUzj83b9qRb",
        "outputId": "e0cc474b-a5ea-486b-c993-9bf88ed9fe9c"
      },
      "execution_count": null,
      "outputs": [
        {
          "output_type": "stream",
          "name": "stdout",
          "text": [
            "0\n",
            "1\n",
            "2\n",
            "3\n",
            "4\n",
            "5\n",
            "6\n",
            "7\n",
            "8\n",
            "9\n"
          ]
        }
      ]
    },
    {
      "cell_type": "code",
      "source": [
        "while True:\n",
        "    condition = int(input(\"Enter a digit = \"))\n",
        "\n",
        "    if condition >= 50:\n",
        "        break\n",
        "\n",
        "print(\"It's over\")"
      ],
      "metadata": {
        "colab": {
          "base_uri": "https://localhost:8080/"
        },
        "id": "-saInNIy9vgJ",
        "outputId": "19d35389-56e1-4baa-83d8-06ca81dc7e23"
      },
      "execution_count": null,
      "outputs": [
        {
          "output_type": "stream",
          "name": "stdout",
          "text": [
            "Enter a digit = 49\n",
            "Enter a digit = 40\n",
            "Enter a digit = 13\n",
            "Enter a digit = 20\n",
            "Enter a digit = 45\n",
            "Enter a digit = 50\n",
            "It's over\n"
          ]
        }
      ]
    },
    {
      "cell_type": "code",
      "source": [
        "while True:\n",
        "    condition = int(input(\"Enter a digit = \"))\n",
        "\n",
        "    while True:\n",
        "        if condition >= 50:\n",
        "            break\n",
        "        else:\n",
        "            break\n",
        "\n",
        "print(\"It's over\")"
      ],
      "metadata": {
        "id": "Ll2Hq2UqoZdE"
      },
      "execution_count": null,
      "outputs": []
    },
    {
      "cell_type": "code",
      "source": [
        "\"\"\"i = 0\n",
        "\n",
        "while True:\n",
        "    i *= 2  \"\"\"\n"
      ],
      "metadata": {
        "id": "B9tWWwhr-sra"
      },
      "execution_count": null,
      "outputs": []
    },
    {
      "cell_type": "markdown",
      "source": [
        "## FOR LOOP"
      ],
      "metadata": {
        "id": "i6_ypvDnAVhZ"
      }
    },
    {
      "cell_type": "code",
      "source": [
        "variable = range(10)\n",
        "print(variable)\n",
        "print(type(variable))\n",
        "\n",
        "for i in variable:\n",
        "    print(i)"
      ],
      "metadata": {
        "colab": {
          "base_uri": "https://localhost:8080/"
        },
        "id": "K2Hy-iSIAUwb",
        "outputId": "27ac38e5-642c-4a05-fd42-e0d750f031ef"
      },
      "execution_count": null,
      "outputs": [
        {
          "output_type": "stream",
          "name": "stdout",
          "text": [
            "range(0, 10)\n",
            "<class 'range'>\n",
            "0\n",
            "1\n",
            "2\n",
            "3\n",
            "4\n",
            "5\n",
            "6\n",
            "7\n",
            "8\n",
            "9\n"
          ]
        }
      ]
    },
    {
      "cell_type": "code",
      "source": [
        "for i in range(5,100,5):\n",
        "    if i % 2 == 0:\n",
        "        print(i)"
      ],
      "metadata": {
        "colab": {
          "base_uri": "https://localhost:8080/"
        },
        "id": "ICC45fQ-BQCn",
        "outputId": "8792ba36-826b-4464-c9e2-e28216c9b9c1"
      },
      "execution_count": null,
      "outputs": [
        {
          "output_type": "stream",
          "name": "stdout",
          "text": [
            "10\n",
            "20\n",
            "30\n",
            "40\n",
            "50\n",
            "60\n",
            "70\n",
            "80\n",
            "90\n"
          ]
        }
      ]
    },
    {
      "cell_type": "markdown",
      "source": [
        "### WHILE VS FOR"
      ],
      "metadata": {
        "id": "D46oPM5RD7eC"
      }
    },
    {
      "cell_type": "code",
      "source": [
        "start = 50\n",
        "end = 231\n",
        "step = 20\n",
        "\n",
        "while start < end:\n",
        "    print(start)\n",
        "    start += step"
      ],
      "metadata": {
        "colab": {
          "base_uri": "https://localhost:8080/"
        },
        "id": "VOPhEg4QDSbb",
        "outputId": "e6a07821-f1cb-4b29-ee35-ebc54ec29112"
      },
      "execution_count": null,
      "outputs": [
        {
          "output_type": "stream",
          "name": "stdout",
          "text": [
            "50\n",
            "70\n",
            "90\n",
            "110\n",
            "130\n",
            "150\n",
            "170\n",
            "190\n",
            "210\n",
            "230\n"
          ]
        }
      ]
    },
    {
      "cell_type": "code",
      "source": [
        "for i in range(50,201,20):\n",
        "    print(i)"
      ],
      "metadata": {
        "colab": {
          "base_uri": "https://localhost:8080/"
        },
        "id": "ljziWt07D2m4",
        "outputId": "7a479f10-0653-482c-99ca-f5d9764f96b8"
      },
      "execution_count": null,
      "outputs": [
        {
          "output_type": "stream",
          "name": "stdout",
          "text": [
            "50\n",
            "70\n",
            "90\n",
            "110\n",
            "130\n",
            "150\n",
            "170\n",
            "190\n"
          ]
        }
      ]
    },
    {
      "cell_type": "markdown",
      "source": [
        "## Exercises"
      ],
      "metadata": {
        "id": "v9TqYcExEAV8"
      }
    },
    {
      "cell_type": "markdown",
      "source": [
        "- Write a program that takes an integer as input and prints whether it's even or odd.\n",
        "\n",
        "- Write a program that calculates the factorial of a non-negative integer. The factorial of a number n (denoted by n!) is the product of all positive integers less than or equal to n. For example, $$5! = 5 * 4 * 3 * 2 * 1 = 120$$. Handle invalid inputs (negatives).\n",
        "\n",
        "- Write a program that efficiently checks if a given number is a prime number. Optimize your code to reduce unnecessary checks. A prime number is a natural number greater than 1 that has no positive divisors other than 1 and itself. For example, $$2, 3, 5, 7, 11$$ are prime numbers.\n",
        "\n"
      ],
      "metadata": {
        "id": "awyQIcHcFUGq"
      }
    },
    {
      "cell_type": "code",
      "source": [
        "# 1\n",
        "\n",
        "num = int(input(\"Enter a number = \"))\n",
        "\n",
        "if num % 2 == 0:\n",
        "    print(\"Even\")\n",
        "else:\n",
        "    print(\"Odd\")\n",
        "\n",
        "\n",
        "#2\n",
        "\n",
        "num = int(input(\"Enter a number = \"))\n",
        "\n",
        "for i in range(1,num+1):\n",
        "    num *= i #num = num * i\n",
        "print(num)\n",
        "\n",
        "\n",
        "#3\n",
        "\n",
        "num = int(input(\"Enter a number = \"))\n",
        "\n",
        "if num > 1:\n",
        "    for i in range(2, int(num**0.5) + 1):\n",
        "        if num % i == 0:\n",
        "            print(\"Not prime\")\n",
        "            break\n",
        "    else:\n",
        "        print(\"Prime\")\n",
        "else:\n",
        "    print(\"Not prime\")"
      ],
      "metadata": {
        "colab": {
          "base_uri": "https://localhost:8080/"
        },
        "id": "Go9ChwYD3xw9",
        "outputId": "1b5657ce-8be5-4897-afa6-178602099e6f"
      },
      "execution_count": null,
      "outputs": [
        {
          "output_type": "stream",
          "name": "stdout",
          "text": [
            "Enter a number: 6\n",
            "The factorial of 6 is 720\n"
          ]
        }
      ]
    }
  ]
}