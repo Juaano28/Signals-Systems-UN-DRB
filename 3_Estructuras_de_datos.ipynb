{
  "nbformat": 4,
  "nbformat_minor": 0,
  "metadata": {
    "colab": {
      "provenance": [],
      "authorship_tag": "ABX9TyNXLr39i9GyebPDi6+sfzqI",
      "include_colab_link": true
    },
    "kernelspec": {
      "name": "python3",
      "display_name": "Python 3"
    },
    "language_info": {
      "name": "python"
    }
  },
  "cells": [
    {
      "cell_type": "markdown",
      "metadata": {
        "id": "view-in-github",
        "colab_type": "text"
      },
      "source": [
        "<a href=\"https://colab.research.google.com/github/dramirezbe/Signals-Systems-UN-DRB/blob/main/3_Estructuras_de_datos.ipynb\" target=\"_parent\"><img src=\"https://colab.research.google.com/assets/colab-badge.svg\" alt=\"Open In Colab\"/></a>"
      ]
    },
    {
      "cell_type": "markdown",
      "source": [
        "# Estructuras de datos\n",
        "\n",
        "- tuples\n",
        "- lists\n",
        "- sets\n",
        "- dictionaries\n",
        "\n"
      ],
      "metadata": {
        "id": "v-hTU958oQNk"
      }
    },
    {
      "cell_type": "markdown",
      "source": [
        "## Tuples"
      ],
      "metadata": {
        "id": "xG5I8TCQrSEG"
      }
    },
    {
      "cell_type": "code",
      "execution_count": null,
      "metadata": {
        "colab": {
          "base_uri": "https://localhost:8080/"
        },
        "id": "gQW7jSVbliqs",
        "outputId": "a895bfbf-4852-4eee-ab04-83a763c07b00"
      },
      "outputs": [
        {
          "output_type": "stream",
          "name": "stdout",
          "text": [
            "(2, \"!I'm a variable!\", 6.2362e+65)\n",
            "2\n",
            "!I'm a variable!\n",
            "6.2362e+65\n"
          ]
        }
      ],
      "source": [
        "# Tuple (cannot be modified)\n",
        "a = 2\n",
        "b = \"!I'm a variable!\"\n",
        "c = 6.2362e65\n",
        "\n",
        "\n",
        "my_tuple = (a, b, c)\n",
        "\n",
        "print(my_tuple)\n",
        "print(my_tuple[0])\n",
        "print(my_tuple[1])\n",
        "print(my_tuple[-1])"
      ]
    },
    {
      "cell_type": "code",
      "source": [
        "a_value, b_value, _ = my_tuple\n",
        "\n",
        "print(a_value)\n",
        "print(b_value)"
      ],
      "metadata": {
        "colab": {
          "base_uri": "https://localhost:8080/"
        },
        "id": "Hu4tCnIjorWZ",
        "outputId": "74bacc3d-f825-4d6b-af59-e92fc7852882"
      },
      "execution_count": null,
      "outputs": [
        {
          "output_type": "stream",
          "name": "stdout",
          "text": [
            "2\n",
            "!I'm a variable!\n"
          ]
        }
      ]
    },
    {
      "cell_type": "code",
      "source": [
        "variable_h = 2.3425325\n",
        "variable_g = 3.234527e3\n",
        "\n",
        "h, g = variable_h, variable_g\n",
        "\n",
        "print(h)\n",
        "print(g)"
      ],
      "metadata": {
        "colab": {
          "base_uri": "https://localhost:8080/"
        },
        "id": "S8OQTZdDpJZL",
        "outputId": "84ef4992-140e-4420-e428-c8f0f023a75e"
      },
      "execution_count": null,
      "outputs": [
        {
          "output_type": "stream",
          "name": "stdout",
          "text": [
            "2.3425325\n",
            "3234.527\n"
          ]
        }
      ]
    },
    {
      "cell_type": "code",
      "source": [
        "single_tuple = (1,)\n",
        "print(single_tuple)"
      ],
      "metadata": {
        "colab": {
          "base_uri": "https://localhost:8080/"
        },
        "id": "gHUPLEWDqsWQ",
        "outputId": "bda398ce-c40f-4fb5-a86a-f840c234d4c4"
      },
      "execution_count": null,
      "outputs": [
        {
          "output_type": "stream",
          "name": "stdout",
          "text": [
            "(1,)\n"
          ]
        }
      ]
    },
    {
      "cell_type": "markdown",
      "source": [
        "## Lists"
      ],
      "metadata": {
        "id": "eM_6OMOfrU2e"
      }
    },
    {
      "source": [
        "my_list = [1, 2, 'hello', 3.14]\n",
        "\n",
        "print(my_list)\n",
        "\n",
        "for pos, element in enumerate(my_list):\n",
        "    print(f\"pos # {pos}: {element}\")"
      ],
      "cell_type": "code",
      "metadata": {
        "colab": {
          "base_uri": "https://localhost:8080/"
        },
        "id": "Gxpk3J6Gr0PL",
        "outputId": "cb2dec39-c08f-40eb-f097-502a5e03f0f2"
      },
      "execution_count": null,
      "outputs": [
        {
          "output_type": "stream",
          "name": "stdout",
          "text": [
            "[1, 2, 'hello', 3.14]\n",
            "pos # 0: 1\n",
            "pos # 1: 2\n",
            "pos # 2: hello\n",
            "pos # 3: 3.14\n"
          ]
        }
      ]
    },
    {
      "cell_type": "code",
      "source": [
        "empty_list = []\n",
        "print(empty_list)"
      ],
      "metadata": {
        "colab": {
          "base_uri": "https://localhost:8080/"
        },
        "id": "WjgYPwnAsLNs",
        "outputId": "31de2e8d-70ed-4087-8a69-29d4787943c3"
      },
      "execution_count": null,
      "outputs": [
        {
          "output_type": "stream",
          "name": "stdout",
          "text": [
            "[]\n"
          ]
        }
      ]
    },
    {
      "cell_type": "markdown",
      "source": [
        "### List Operations"
      ],
      "metadata": {
        "id": "-QxTCMmiskme"
      }
    },
    {
      "cell_type": "code",
      "source": [
        "my_list = [1, 2, 3]\n",
        "\n",
        "for i in range(2):\n",
        "    my_list[i] = \"insert item\"\n",
        "\n",
        "print(my_list)\n",
        "\n",
        "my_list.append(\"add item\")\n",
        "\n",
        "print(my_list)\n"
      ],
      "metadata": {
        "colab": {
          "base_uri": "https://localhost:8080/"
        },
        "id": "soOvDwvQsmmu",
        "outputId": "066a045e-26ab-4e72-e813-24a74cf579a1"
      },
      "execution_count": null,
      "outputs": [
        {
          "output_type": "stream",
          "name": "stdout",
          "text": [
            "['insert item', 'insert item', 3]\n",
            "['insert item', 'insert item', 3, 'add item']\n"
          ]
        }
      ]
    },
    {
      "cell_type": "code",
      "source": [
        "import random\n",
        "\n",
        "my_list = []\n",
        "\n",
        "for i in range(10):\n",
        "    num_random = random.randint(0, 10) #Genera un número aleatorio entero de 0 a 10\n",
        "    my_list.append(num_random)\n",
        "    print(my_list)\n"
      ],
      "metadata": {
        "colab": {
          "base_uri": "https://localhost:8080/"
        },
        "id": "B5sGzkBKtZOV",
        "outputId": "361e0174-42e9-42f6-db50-d2a4b40e6bb9"
      },
      "execution_count": null,
      "outputs": [
        {
          "output_type": "stream",
          "name": "stdout",
          "text": [
            "[10]\n",
            "[10, 5]\n",
            "[10, 5, 8]\n",
            "[10, 5, 8, 7]\n",
            "[10, 5, 8, 7, 6]\n",
            "[10, 5, 8, 7, 6, 10]\n",
            "[10, 5, 8, 7, 6, 10, 9]\n",
            "[10, 5, 8, 7, 6, 10, 9, 6]\n",
            "[10, 5, 8, 7, 6, 10, 9, 6, 2]\n",
            "[10, 5, 8, 7, 6, 10, 9, 6, 2, 7]\n"
          ]
        }
      ]
    },
    {
      "cell_type": "code",
      "source": [
        "my_list = [1, 2, 3, 2, 4, 2]\n",
        "my_list.insert(1, 'hello')  # Inserts 'hello' at index 1\n",
        "print(my_list)\n",
        "\n",
        "count = my_list.count(2)  # Counts the number of occurrences of 2\n",
        "print(count)\n",
        "\n",
        "my_list.remove(2)  # Removes the first occurrence of 2\n",
        "print(my_list)"
      ],
      "metadata": {
        "colab": {
          "base_uri": "https://localhost:8080/"
        },
        "id": "NBah9Rx4uUuK",
        "outputId": "dcf06de8-e87c-4e02-e13a-192ac145105b"
      },
      "execution_count": null,
      "outputs": [
        {
          "output_type": "stream",
          "name": "stdout",
          "text": [
            "[1, 'hello', 2, 3, 2, 4, 2]\n",
            "3\n",
            "[1, 'hello', 3, 2, 4, 2]\n"
          ]
        }
      ]
    },
    {
      "cell_type": "code",
      "source": [
        "my_list = [1, 2, 3, 2, 4, 2, 1, 7, 6, 5, 3, 3, 3, 3]\n",
        "set_list = set(my_list)\n",
        "print(set_list)\n"
      ],
      "metadata": {
        "colab": {
          "base_uri": "https://localhost:8080/"
        },
        "id": "quZzKTBAunci",
        "outputId": "0c745113-5161-459b-90ac-27cf74c3ef76"
      },
      "execution_count": null,
      "outputs": [
        {
          "output_type": "stream",
          "name": "stdout",
          "text": [
            "{1, 2, 3, 4, 5, 6, 7}\n"
          ]
        }
      ]
    },
    {
      "cell_type": "code",
      "source": [
        "unique_list = list(set(my_list))\n",
        "print(unique_list)\n"
      ],
      "metadata": {
        "colab": {
          "base_uri": "https://localhost:8080/"
        },
        "id": "7_5I5U5awCgr",
        "outputId": "3fb32f13-1ffb-46f3-8498-6b094e2c23ff"
      },
      "execution_count": null,
      "outputs": [
        {
          "output_type": "stream",
          "name": "stdout",
          "text": [
            "[1, 2, 3, 4, 5, 6, 7]\n"
          ]
        }
      ]
    },
    {
      "cell_type": "markdown",
      "source": [
        "## Dictionaries\n"
      ],
      "metadata": {
        "id": "6CxOBNYWvhHI"
      }
    },
    {
      "source": [
        "my_dict = {'name': 'Alice', 'age': 30, 'city': 'New York'}\n",
        "print(my_dict)"
      ],
      "cell_type": "code",
      "metadata": {
        "colab": {
          "base_uri": "https://localhost:8080/"
        },
        "id": "zfqoT--NwVn8",
        "outputId": "fd3244ac-3f0e-4ba0-a02b-6bd0e4bc6c21"
      },
      "execution_count": null,
      "outputs": [
        {
          "output_type": "stream",
          "name": "stdout",
          "text": [
            "{'name': 'Alice', 'age': 30, 'city': 'New York'}\n"
          ]
        }
      ]
    },
    {
      "source": [
        "empty_dict = {}"
      ],
      "cell_type": "code",
      "metadata": {
        "id": "PJABmXi0wWq2"
      },
      "execution_count": null,
      "outputs": []
    },
    {
      "source": [
        "another_dict = dict(name='Bob', age=25, city='London')\n",
        "print(another_dict)"
      ],
      "cell_type": "code",
      "metadata": {
        "colab": {
          "base_uri": "https://localhost:8080/"
        },
        "id": "CBXhWMGSwZ4a",
        "outputId": "3686964e-8865-4ac1-bff9-ae1dbc8b3671"
      },
      "execution_count": null,
      "outputs": [
        {
          "output_type": "stream",
          "name": "stdout",
          "text": [
            "{'name': 'Bob', 'age': 25, 'city': 'London'}\n"
          ]
        }
      ]
    },
    {
      "cell_type": "code",
      "source": [
        "print(another_dict['name'])  # Accesses the value associated with the key 'name'"
      ],
      "metadata": {
        "colab": {
          "base_uri": "https://localhost:8080/"
        },
        "id": "P1dY7gd9wvDl",
        "outputId": "862bf452-d31a-4a30-a229-cbf001dd76ab"
      },
      "execution_count": null,
      "outputs": [
        {
          "output_type": "stream",
          "name": "stdout",
          "text": [
            "Bob\n"
          ]
        }
      ]
    },
    {
      "cell_type": "code",
      "source": [
        "another_dict['occupation'] = 'Engineer'  # Modifies the value associated with the key 'age'\n",
        "print(another_dict)\n",
        "\n",
        "another_dict['age'] = 26\n",
        "print(another_dict)"
      ],
      "metadata": {
        "colab": {
          "base_uri": "https://localhost:8080/"
        },
        "id": "368Qn5hTxDzW",
        "outputId": "3ec2526a-fbb8-4a43-de63-aa850577cf6d"
      },
      "execution_count": null,
      "outputs": [
        {
          "output_type": "stream",
          "name": "stdout",
          "text": [
            "{'name': 'Bob', 'age': 25, 'city': 'London', 'occupation': 'Engineer'}\n",
            "{'name': 'Bob', 'age': 26, 'city': 'London', 'occupation': 'Engineer'}\n"
          ]
        }
      ]
    },
    {
      "cell_type": "code",
      "source": [
        "for i in another_dict:\n",
        "    print(another_dict[i])"
      ],
      "metadata": {
        "colab": {
          "base_uri": "https://localhost:8080/"
        },
        "id": "lcPaZUhOxeOX",
        "outputId": "7b496927-25a6-420f-a503-311efe0c70eb"
      },
      "execution_count": null,
      "outputs": [
        {
          "output_type": "stream",
          "name": "stdout",
          "text": [
            "Bob\n",
            "26\n",
            "London\n",
            "Engineer\n"
          ]
        }
      ]
    },
    {
      "cell_type": "code",
      "source": [
        "for i in another_dict:\n",
        "    print(i)"
      ],
      "metadata": {
        "colab": {
          "base_uri": "https://localhost:8080/"
        },
        "id": "YT-Xea4RxvVN",
        "outputId": "9f3c4e92-a0fa-4400-b698-93e18a53b61f"
      },
      "execution_count": null,
      "outputs": [
        {
          "output_type": "stream",
          "name": "stdout",
          "text": [
            "name\n",
            "age\n",
            "city\n",
            "occupation\n"
          ]
        }
      ]
    },
    {
      "cell_type": "code",
      "source": [
        "my_string = \"Avocado\"\n",
        "\n",
        "for i in my_string:\n",
        "    print(i)"
      ],
      "metadata": {
        "colab": {
          "base_uri": "https://localhost:8080/"
        },
        "id": "AiZQwLrqytqq",
        "outputId": "82125b7d-c844-4967-f466-ad1d3241cedc"
      },
      "execution_count": null,
      "outputs": [
        {
          "output_type": "stream",
          "name": "stdout",
          "text": [
            "A\n",
            "v\n",
            "o\n",
            "c\n",
            "a\n",
            "d\n",
            "o\n"
          ]
        }
      ]
    },
    {
      "cell_type": "code",
      "source": [
        "for i in range(3):\n",
        "    my_string[i] = \"H\""
      ],
      "metadata": {
        "colab": {
          "base_uri": "https://localhost:8080/",
          "height": 158
        },
        "id": "hVo5mXruzIrn",
        "outputId": "6d73535b-a76b-4089-ec52-0e057a6d9b50"
      },
      "execution_count": null,
      "outputs": [
        {
          "output_type": "error",
          "ename": "TypeError",
          "evalue": "'str' object does not support item assignment",
          "traceback": [
            "\u001b[0;31m---------------------------------------------------------------------------\u001b[0m",
            "\u001b[0;31mTypeError\u001b[0m                                 Traceback (most recent call last)",
            "\u001b[0;32m<ipython-input-20-c00b43b0ed1b>\u001b[0m in \u001b[0;36m<cell line: 1>\u001b[0;34m()\u001b[0m\n\u001b[1;32m      1\u001b[0m \u001b[0;32mfor\u001b[0m \u001b[0mi\u001b[0m \u001b[0;32min\u001b[0m \u001b[0mrange\u001b[0m\u001b[0;34m(\u001b[0m\u001b[0;36m3\u001b[0m\u001b[0;34m)\u001b[0m\u001b[0;34m:\u001b[0m\u001b[0;34m\u001b[0m\u001b[0;34m\u001b[0m\u001b[0m\n\u001b[0;32m----> 2\u001b[0;31m     \u001b[0mmy_string\u001b[0m\u001b[0;34m[\u001b[0m\u001b[0mi\u001b[0m\u001b[0;34m]\u001b[0m \u001b[0;34m=\u001b[0m \u001b[0;34m\"H\"\u001b[0m\u001b[0;34m\u001b[0m\u001b[0;34m\u001b[0m\u001b[0m\n\u001b[0m",
            "\u001b[0;31mTypeError\u001b[0m: 'str' object does not support item assignment"
          ]
        }
      ]
    },
    {
      "cell_type": "markdown",
      "source": [
        "## Exercise\n",
        "\n",
        "With Gemini copy and paste a list with random foods with length 100, then analyze the list, if the food have an \"A\" or \"a\", replace the word with \"REPLACE\""
      ],
      "metadata": {
        "id": "qafy-y3Zybfe"
      }
    },
    {
      "cell_type": "code",
      "source": [
        "# Example of list.\n",
        "food_list = [\n",
        "    \"Pizza\", \"Pasta\", \"Burger\", \"Taco\", \"Sushi\", \"Salad\", \"Steak\", \"Chicken\", \"Fish\", \"Soup\",\n",
        "    \"Sandwich\", \"Hot Dog\", \"Fries\", \"Onion Rings\", \"Ice Cream\", \"Cake\", \"Pie\", \"Cookies\", \"Brownie\", \"Muffin\",\n",
        "    \"Pancakes\", \"Waffles\", \"Yogurt\", \"Fruit\", \"Vegetables\", \"Bread\", \"Cheese\", \"Milk\", \"Eggs\", \"Coffee\",\n",
        "    \"Tea\", \"Juice\", \"Water\", \"Soda\", \"Beer\", \"Wine\", \"Liquor\", \"Cereal\", \"Oatmeal\", \"Popcorn\",\n",
        "    \"Nachos\", \"Burrito\", \"Quesadilla\", \"Guacamole\", \"Salsa\", \"Chips\", \"Dip\", \"Candy\", \"Chocolate\", \"Peanut Butter\",\n",
        "    \"Jelly\", \"Jam\", \"Honey\", \"Syrup\", \"Butter\", \"Margarine\", \"Mayonnaise\", \"Ketchup\", \"Mustard\", \"Pickles\",\n",
        "    \"Olives\", \"Bacon\", \"Sausage\", \"Ham\", \"Turkey\", \"Roast Beef\", \"Pork\", \"Lamb\", \"Seafood\", \"Shrimp\",\n",
        "    \"Crab\", \"Lobster\", \"Scallops\", \"Oysters\", \"Clams\", \"Mussels\", \"Tuna\", \"Salmon\", \"Cod\", \"Haddock\",\n",
        "    \"Halibut\", \"Bass\", \"Trout\", \"Carp\", \"Catfish\", \"Eel\", \"Squid\", \"Octopus\", \"Caviar\", \"Foie Gras\",\n",
        "    \"Asparagus\", \"Broccoli\", \"Carrots\", \"Peas\", \"Green Beans\", \"Corn\", \"Potatoes\", \"Sweet Potatoes\", \"Yams\", \"Onions\"\n",
        "]\n"
      ],
      "metadata": {
        "colab": {
          "base_uri": "https://localhost:8080/"
        },
        "id": "kaS8ywBo0e-d",
        "outputId": "bc81dd8f-694d-42fd-bc25-8e5fd350e5ca"
      },
      "execution_count": null,
      "outputs": [
        {
          "output_type": "stream",
          "name": "stdout",
          "text": [
            "Original list: ['Pizza', 'Pasta', 'Burger', 'Taco', 'Sushi', 'Salad', 'Steak', 'Chicken', 'Fish', 'Soup', 'Sandwich', 'Hot Dog', 'Fries', 'Onion Rings', 'Ice Cream', 'Cake', 'Pie', 'Cookies', 'Brownie', 'Muffin', 'Pancakes', 'Waffles', 'Yogurt', 'Fruit', 'Vegetables', 'Bread', 'Cheese', 'Milk', 'Eggs', 'Coffee', 'Tea', 'Juice', 'Water', 'Soda', 'Beer', 'Wine', 'Liquor', 'Cereal', 'Oatmeal', 'Popcorn', 'Nachos', 'Burrito', 'Quesadilla', 'Guacamole', 'Salsa', 'Chips', 'Dip', 'Candy', 'Chocolate', 'Peanut Butter', 'Jelly', 'Jam', 'Honey', 'Syrup', 'Butter', 'Margarine', 'Mayonnaise', 'Ketchup', 'Mustard', 'Pickles', 'Olives', 'Bacon', 'Sausage', 'Ham', 'Turkey', 'Roast Beef', 'Pork', 'Lamb', 'Seafood', 'Shrimp', 'Crab', 'Lobster', 'Scallops', 'Oysters', 'Clams', 'Mussels', 'Tuna', 'Salmon', 'Cod', 'Haddock', 'Halibut', 'Bass', 'Trout', 'Carp', 'Catfish', 'Eel', 'Squid', 'Octopus', 'Caviar', 'Foie Gras', 'Asparagus', 'Broccoli', 'Carrots', 'Peas', 'Green Beans', 'Corn', 'Potatoes', 'Sweet Potatoes', 'Yams', 'Onions']\n",
            "Modified list: ['REPLACE', 'REPLACE', 'Burger', 'REPLACE', 'Sushi', 'REPLACE', 'REPLACE', 'Chicken', 'Fish', 'Soup', 'REPLACE', 'Hot Dog', 'Fries', 'Onion Rings', 'REPLACE', 'REPLACE', 'Pie', 'Cookies', 'Brownie', 'Muffin', 'REPLACE', 'REPLACE', 'Yogurt', 'Fruit', 'REPLACE', 'REPLACE', 'Cheese', 'Milk', 'Eggs', 'Coffee', 'REPLACE', 'Juice', 'REPLACE', 'REPLACE', 'Beer', 'Wine', 'Liquor', 'REPLACE', 'REPLACE', 'Popcorn', 'REPLACE', 'Burrito', 'REPLACE', 'REPLACE', 'REPLACE', 'Chips', 'Dip', 'REPLACE', 'REPLACE', 'REPLACE', 'Jelly', 'REPLACE', 'Honey', 'Syrup', 'Butter', 'REPLACE', 'REPLACE', 'Ketchup', 'REPLACE', 'Pickles', 'Olives', 'REPLACE', 'REPLACE', 'REPLACE', 'Turkey', 'REPLACE', 'Pork', 'REPLACE', 'REPLACE', 'Shrimp', 'REPLACE', 'Lobster', 'REPLACE', 'Oysters', 'REPLACE', 'Mussels', 'REPLACE', 'REPLACE', 'Cod', 'REPLACE', 'REPLACE', 'REPLACE', 'Trout', 'REPLACE', 'REPLACE', 'Eel', 'Squid', 'Octopus', 'REPLACE', 'REPLACE', 'REPLACE', 'Broccoli', 'REPLACE', 'REPLACE', 'REPLACE', 'Corn', 'REPLACE', 'REPLACE', 'REPLACE', 'Onions']\n"
          ]
        }
      ]
    }
  ]
}